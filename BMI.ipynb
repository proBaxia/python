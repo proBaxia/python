{
 "cells": [
  {
   "cell_type": "code",
   "execution_count": 7,
   "metadata": {},
   "outputs": [
    {
     "name": "stdout",
     "output_type": "stream",
     "text": [
      "19.53125\n"
     ]
    }
   ],
   "source": [
    "#Body mass index (BMI) is a measure of body fat based on height and weight that applies to adult men and women\n",
    "#BMI is a reliable indicator of body fatness for most people. It is used to screen for weight categories that may lead to health -\n",
    "#problems. This calculator provides BMI and the corresponding weight category.\n",
    "#What's normal BMI for a woman?\n",
    "#18.5—24.9\n",
    "#Adult BMI Calculator\n",
    "#BMI\t       Weight Status\n",
    "#==============================\n",
    "#Below 18.5\t     Underweight\n",
    "#18.5—24.9\t     Healthy Weight\n",
    "#25.0—29.9\t     Overweight\n",
    "#30.0 an Above   Obesity\n",
    "##///BMI_APP\\\\\\\\#\n",
    "weight = 72   # in kg\n",
    "height = 1.92 # in Mtrs\n",
    "BMI = weight / (height ** 2)\n",
    "print(BMI)\n"
   ]
  }
 ],
 "metadata": {
  "kernelspec": {
   "display_name": "Python 3",
   "language": "python",
   "name": "python3"
  },
  "language_info": {
   "codemirror_mode": {
    "name": "ipython",
    "version": 3
   },
   "file_extension": ".py",
   "mimetype": "text/x-python",
   "name": "python",
   "nbconvert_exporter": "python",
   "pygments_lexer": "ipython3",
   "version": "3.11.2"
  },
  "orig_nbformat": 4
 },
 "nbformat": 4,
 "nbformat_minor": 2
}
